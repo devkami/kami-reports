{
 "cells": [
  {
   "cell_type": "code",
   "execution_count": null,
   "metadata": {},
   "outputs": [],
   "source": [
    "from database import get_dataframe_from_sql_query\n",
    "from datetime import datetime as dt, timedelta as td\n",
    "from constant import BEEXP_SCRIPT, ORDER_ITEM_DATE_COLS\n",
    "from messages import send_messages_by_group\n",
    "first_update = dt.now() - td(days=7)\n",
    "current_update = first_update\n",
    "last_update = first_update\n",
    "def get_beexp_since(ordered_date):\n",
    "    oders_df = get_dataframe_from_sql_query(\n",
    "    sql_script=BEEXP_SCRIPT,\n",
    "    date_cols=ORDER_ITEM_DATE_COLS\n",
    "    )\n",
    "    mask = (oders_df['dt_implant'] >= ordered_date)\n",
    "    return oders_df.loc[mask]\n",
    "\n",
    "beexp_df = get_beexp_since(current_update)\n",
    "products = [f\"Quantidade de Ingressos: [dado] Nome do Vendedor: [dado] Tipo de Ingresso: [dado] Valor faturado: [dado] Forma de pagamento: [dado] Código do cliente: [dado] Data da venda: [dado] E-mail do representante: [dado] O respectivo vendedor já recebeu o link de cadastro do participante.\" for cod in ]\n",
    "send_messages_by_group(\n",
    "        message_body=products, group='comercial'\n",
    ")"
   ]
  },
  {
   "cell_type": "code",
   "execution_count": null,
   "metadata": {},
   "outputs": [],
   "source": [
    "script = 'data/in/beexp_orders.sql'\n",
    "from database import get_dataframe_from_sql\n",
    "beexp_df = get_dataframe_from_sql(script)     \n",
    "beexp_filtered_df = beexp_df[['qtd', 'nome_colaborador', 'desc_comercial', 'preco_total', 'cond_pgto', 'cod_cliente', 'nome_cliente', 'dt_implant', 'email_colaborador']]"
   ]
  },
  {
   "cell_type": "code",
   "execution_count": null,
   "metadata": {},
   "outputs": [],
   "source": [
    "from mkt_automation import get_beexp_since, get_beexp_manager_message\n",
    "from datetime import datetime as dt, timedelta as td\n",
    "from messages import send_messages_by_group\n",
    "first_update = dt.now() - td(days=7)\n",
    "current_update = first_update\n",
    "last_update = first_update\n",
    "\n",
    "beexp_df = get_beexp_since(current_update)\n",
    "beexp_df = beexp_df[['qtd', 'nome_colaborador', 'desc_comercial', 'preco_total', 'cond_pgto', 'cod_cliente', 'nome_cliente', 'dt_implant', 'email_colaborador']]\n",
    "for row in beexp_df.itertuples():\n",
    "  beexp_message = get_beexp_manager_message(row)\n",
    "  send_messages_by_group(message_body=beexp_message, group='beexp_manager')"
   ]
  },
  {
   "cell_type": "code",
   "execution_count": null,
   "metadata": {},
   "outputs": [],
   "source": [
    "import polars as pl\n",
    "sellers_df = pl.read_csv('data/in/vendedores.csv', separator=';')\n",
    "sellers_df = sellers_df.select(\n",
    "    pl.col('cod_colaborador'),\n",
    "    pl.col('nome_colaborador'),\n",
    "    pl.col('ddd_celular').cast(pl.Utf8).alias('ddd_celular'),\n",
    "    pl.col('celular').cast(pl.Utf8).alias('celular'),\n",
    "    pl.col('ddd_1').cast(pl.Utf8).alias('ddd_1'),\n",
    "    pl.col('telefone_1').cast(pl.Utf8).alias('telefone_1'),\n",
    "    pl.col('email')\n",
    ")"
   ]
  },
  {
   "cell_type": "code",
   "execution_count": null,
   "metadata": {},
   "outputs": [],
   "source": [
    "sellers_contacts = sellers_df.with_columns([\n",
    "    pl.when((\n",
    "        pl.col('ddd_celular').is_not_null()) & (pl.col('celular').is_not_null()))\n",
    "    .then(pl.map(['ddd_celular', 'celular'], lambda s: '+55'+s[0]+s[1]))\n",
    "    .otherwise(None)\n",
    "    .alias('cellphone')    \n",
    "])\n",
    "\n",
    "sellers_contacts = sellers_contacts.with_columns([\n",
    "    pl.when((\n",
    "        pl.col('ddd_1').is_not_null()) & (pl.col('telefone_1').is_not_null()))\n",
    "    .then(pl.map(['ddd_1', 'telefone_1'], lambda s: '+55'+s[0]+s[1]))\n",
    "    .otherwise(None)\n",
    "    .alias('phonenumber')\n",
    "])\n",
    "\n",
    "sellers_contacts = sellers_contacts.with_columns([\n",
    "    pl.when(pl.col('cellphone').is_not_null())\n",
    "    .then(pl.col('cellphone'))    \n",
    "    .otherwise(None)\n",
    "    .alias('phone')\n",
    "])\n",
    "\n",
    "sellers_contacts = sellers_contacts.with_columns([\n",
    "    pl.when(pl.col('phone').is_not_null())\n",
    "    .then(pl.col('phone'))    \n",
    "    .otherwise(pl.col('phonenumber'))\n",
    "    .alias('phone')\n",
    "])\n",
    "\n",
    "sellers_contacts = sellers_contacts.drop_nulls(['phone']).select(pl.col(['cod_colaborador', 'nome_colaborador','phone','email']))\n",
    "\n",
    "sellers_contacts = sellers_contacts.with_columns([\n",
    "    pl.when(pl.col('cod_colaborador').is_not_null())\n",
    "    .then(pl.lit(\"['beexp_seller']\"))    \n",
    "    .otherwise(pl.lit(\"['beexp_seller']\"))\n",
    "    .alias('groups')\n",
    "])\n",
    "\n",
    "sellers_contacts.columns = ['uno_id', 'name', 'phone', 'email', 'groups']"
   ]
  },
  {
   "cell_type": "code",
   "execution_count": null,
   "metadata": {},
   "outputs": [],
   "source": [
    "sellers_contacts.write_json('messages/sellers_contacts.json', row_oriented=True)"
   ]
  },
  {
   "cell_type": "code",
   "execution_count": null,
   "metadata": {},
   "outputs": [],
   "source": [
    "sellers_contacts_bot_conversa = sellers_contacts.select(pl.col(['phone', 'name', 'uno_id']))\n",
    "sellers_contacts_bot_conversa = sellers_contacts_bot_conversa.with_columns([\n",
    "    pl.when(pl.col('uno_id').is_not_null())\n",
    "    .then(pl.col('uno_id').cast(pl.Utf8).apply(lambda x: f\"__uno__.sg_colaborador.{x}\"))\n",
    "    .otherwise(pl.lit(None))\n",
    "    .alias('etiquetas')\n",
    "]).select(pl.col(['phone', 'name', 'etiquetas']))\n",
    "sellers_contacts_bot_conversa.columns = ['telefone', 'nome', 'etiquetas']"
   ]
  },
  {
   "cell_type": "code",
   "execution_count": null,
   "metadata": {},
   "outputs": [],
   "source": [
    "sellers_contacts_bot_conversa.write_excel('data/out/vendedores_uno_botconversa.xlsx')"
   ]
  },
  {
   "cell_type": "code",
   "execution_count": null,
   "metadata": {},
   "outputs": [],
   "source": [
    "script = 'data/in/contact_sellers.sql'\n",
    "from database import get_dataframe_from_sql\n",
    "contact_sellers = get_dataframe_from_sql(script)\n",
    "contact_sellers['groups'] = 'beexp_seller'"
   ]
  },
  {
   "cell_type": "code",
   "execution_count": null,
   "metadata": {},
   "outputs": [],
   "source": [
    "from dataclasses import dataclass\n",
    "from typing import List\n",
    "\n",
    "@dataclass\n",
    "class Contact:\n",
    "\n",
    "    id: str\n",
    "    name: str\n",
    "    email: str\n",
    "    phone: str\n",
    "    groups: List[str]\n",
    "contacts = contact_sellers.apply(lambda row: Contact(**row), axis=1)"
   ]
  },
  {
   "cell_type": "code",
   "execution_count": null,
   "metadata": {},
   "outputs": [],
   "source": [
    "for contact in contacts:\n",
    "    contact.groups = [contact.groups]"
   ]
  },
  {
   "cell_type": "code",
   "execution_count": null,
   "metadata": {},
   "outputs": [],
   "source": [
    "from messages import get_contact_by_id, get_sellers_contacts_from_database, generate_message_by_template, send_message_by_messenger, send_message_by_all_messengers, send_message_by_group, send_message_by_seller_id\n",
    "\n",
    "sellers_contacts = get_sellers_contacts_from_database()"
   ]
  },
  {
   "cell_type": "code",
   "execution_count": null,
   "metadata": {},
   "outputs": [],
   "source": [
    "from messages import get_contacts_from_json, send_message_by_group\n",
    "contacts = get_contacts_from_json('messages/contacts.json')\n",
    "send_message_by_group(\n",
    "    'beexp_manager',\n",
    "    'test',\n",
    "    {'subject': 'Vendas BEEXP', 'beexp_order': 'teste: t, data: d, tudo ok'},\n",
    "    contacts\n",
    ")"
   ]
  }
 ],
 "metadata": {
  "kernelspec": {
   "display_name": "Python 3",
   "language": "python",
   "name": "python3"
  },
  "language_info": {
   "codemirror_mode": {
    "name": "ipython",
    "version": 3
   },
   "file_extension": ".py",
   "mimetype": "text/x-python",
   "name": "python",
   "nbconvert_exporter": "python",
   "pygments_lexer": "ipython3",
   "version": "3.10.12"
  },
  "orig_nbformat": 4
 },
 "nbformat": 4,
 "nbformat_minor": 2
}
