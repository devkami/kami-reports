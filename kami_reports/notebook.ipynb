{
 "cells": [
  {
   "cell_type": "code",
   "execution_count": null,
   "metadata": {},
   "outputs": [],
   "source": [
    "from database import get_dataframe_from_sql_query\n",
    "from datetime import datetime as dt, timedelta as td\n",
    "from constant import BEEXP_SCRIPT, ORDER_ITEM_DATE_COLS\n",
    "from messages import send_messages_by_group\n",
    "first_update = dt.now() - td(days=7)\n",
    "current_update = first_update\n",
    "last_update = first_update\n",
    "def get_beexp_since(ordered_date):\n",
    "    oders_df = get_dataframe_from_sql_query(\n",
    "    sql_script=BEEXP_SCRIPT,\n",
    "    date_cols=ORDER_ITEM_DATE_COLS\n",
    "    )\n",
    "    mask = (oders_df['dt_implant'] >= ordered_date)\n",
    "    return oders_df.loc[mask]\n",
    "\n",
    "beexp_df = get_beexp_since(current_update)\n",
    "products = [f\"Quantidade de Ingressos: [dado] Nome do Vendedor: [dado] Tipo de Ingresso: [dado] Valor faturado: [dado] Forma de pagamento: [dado] Código do cliente: [dado] Data da venda: [dado] E-mail do representante: [dado] O respectivo vendedor já recebeu o link de cadastro do participante.\" for cod in ]\n",
    "send_messages_by_group(\n",
    "        gdrive_folder_id=products, group='comercial'\n",
    ")"
   ]
  },
  {
   "cell_type": "code",
   "execution_count": null,
   "metadata": {},
   "outputs": [],
   "source": [
    "script = 'data/in/beexp_orders.sql'\n",
    "from database import get_dataframe_from_sql\n",
    "beexp_df = get_dataframe_from_sql(script)     \n",
    "beexp_filtered_df = beexp_df[['qtd', 'nome_colaborador', 'desc_comercial', 'preco_total', 'cond_pgto', 'cod_cliente', 'nome_cliente', 'dt_implant', 'email_colaborador']]"
   ]
  },
  {
   "cell_type": "code",
   "execution_count": null,
   "metadata": {},
   "outputs": [],
   "source": [
    "from mkt_automation import get_beexp_since, get_beexp_manager_message\n",
    "from datetime import datetime as dt, timedelta as td\n",
    "from messages import send_messages_by_group\n",
    "first_update = dt.now() - td(days=7)\n",
    "current_update = first_update\n",
    "last_update = first_update\n",
    "\n",
    "beexp_df = get_beexp_since(current_update)\n",
    "beexp_df = beexp_df[['qtd', 'nome_colaborador', 'desc_comercial', 'preco_total', 'cond_pgto', 'cod_cliente', 'nome_cliente', 'dt_implant', 'email_colaborador']]\n",
    "for row in beexp_df.itertuples():\n",
    "  beexp_message = get_beexp_manager_message(row)\n",
    "  send_messages_by_group(gdrive_folder_id=beexp_message, group='beexp_manager')"
   ]
  }
 ],
 "metadata": {
  "kernelspec": {
   "display_name": "Python 3",
   "language": "python",
   "name": "python3"
  },
  "language_info": {
   "codemirror_mode": {
    "name": "ipython",
    "version": 3
   },
   "file_extension": ".py",
   "mimetype": "text/x-python",
   "name": "python",
   "nbconvert_exporter": "python",
   "pygments_lexer": "ipython3",
   "version": "3.10.12"
  },
  "orig_nbformat": 4
 },
 "nbformat": 4,
 "nbformat_minor": 2
}
