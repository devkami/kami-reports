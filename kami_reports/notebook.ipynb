{
 "cells": [
  {
   "cell_type": "code",
   "execution_count": null,
   "metadata": {},
   "outputs": [],
   "source": [
    "from dataframe import get_sales_lines_df, get_customer_details_df, get_monthly_billings_df, get_sales_bi_df, get_sales_orders_df\n",
    "orders_df = get_sales_orders_df(get_sales_bi_df(get_sales_lines_df()))"
   ]
  },
  {
   "cell_type": "code",
   "execution_count": null,
   "metadata": {},
   "outputs": [],
   "source": [
    "from dataframe import get_sales_bi_df, build_master_df, get_sales_lines_df\n",
    "sales_bi_df = get_sales_bi_df(get_sales_lines_df())\n",
    "master_df = build_master_df(sales_bi_df)"
   ]
  },
  {
   "cell_type": "code",
   "execution_count": null,
   "metadata": {},
   "outputs": [],
   "source": [
    "customer_df = master_df.drop_duplicates(subset=['cod_cliente'])\n",
    "options = list(customer_df['equipe'].unique())\n",
    "print(options+['todos'])"
   ]
  },
  {
   "cell_type": "code",
   "execution_count": null,
   "metadata": {},
   "outputs": [],
   "source": [
    "customer_df.info()"
   ]
  },
  {
   "cell_type": "code",
   "execution_count": null,
   "metadata": {},
   "outputs": [],
   "source": [
    "cdf = customer_df.astype(str)\n",
    "for column in cdf.columns:\n",
    "    cdf[f'len_{column}'] = cdf[column].apply(len)\n",
    "[{'column': column, 'len': max([cdf[f'len_{column}'].max(), len(column)])} for column in cdf.columns if 'len_' not in column]"
   ]
  },
  {
   "cell_type": "code",
   "execution_count": null,
   "metadata": {},
   "outputs": [],
   "source": [
    "import plotly.express as px\n",
    "master_ytd_df = master_df.groupby(['nome_colaborador']).agg(\n",
    "     sum_ytd_2022 = ('ytd_2022','sum'),\n",
    "     sum_ytd_2023 = ('ytd_2023','sum'),\n",
    "     ).reset_index()\n",
    "fig = px.bar(master_ytd_df, x=\"sum_ytd_2022\", y=\"nome_colaborador\", orientation='h')\n",
    "fig.show()"
   ]
  },
  {
   "cell_type": "code",
   "execution_count": null,
   "metadata": {},
   "outputs": [],
   "source": [
    "\n"
   ]
  },
  {
   "attachments": {},
   "cell_type": "markdown",
   "metadata": {},
   "source": [
    "# Autenticação E-Gestor"
   ]
  },
  {
   "cell_type": "code",
   "execution_count": 1,
   "metadata": {},
   "outputs": [
    {
     "name": "stdout",
     "output_type": "stream",
     "text": [
      "2UFZmChYlGoR806IhsH5dUz4lsDQSETUX7tHwAbx\n"
     ]
    }
   ],
   "source": [
    "!pip install urllib2\n",
    "import requests, json\n",
    "url=\"https://api.egestor.com.br/api/oauth/access_token\"\n",
    "headers = {'Content-Type':'application/json'}\n",
    "data = {\n",
    "    \"grant_type\": \"personal\",\n",
    "    \"personal_token\":\"eyJhbGciOiJIUzI1NiIsInR5cCI6IkpXVCJ9.eyJhcHAiOiIxYzAyMTdhOTA3YjQ0NDZiNmY4ZDI1ODczOWY2ZDExOCIsInN1YmRvbWluaW8iOiIzbWtvY29zbWV0aWNvcyIsImNsaWVudCI6IjY3Nzg4NmMxNDdkZWRiNWI3OTI2M2ZjYTUzZDMzNWY1M2Q1YTRmNzMiLCJjcmVhdGVkIjoxNjg3ODc3NjU4fQ==.WGtkaww6fxpJvYccCj4JGTVCPLv1uS2CO1Nk3lJFNCU=\"\n",
    "}\n",
    "response = requests.post(url, data=data)\n",
    "auth_info = json.loads(response.content.decode('utf-8'))\n",
    "print(auth_info['access_token'])"
   ]
  },
  {
   "cell_type": "code",
   "execution_count": null,
   "metadata": {},
   "outputs": [],
   "source": [
    "import requests, json\n",
    "from urllib2 import Request, urlopen\n",
    "url = 'https://api.egestor.com.br/api/v1/vendas'\n",
    "headers = {\n",
    "    'Content-Type':'application/json',\n",
    "    'Authorization':f\"Bearer [{auth_info['access_token']}]\"\n",
    "}\n",
    "request = Request(url, headers=headers)\n",
    "\n",
    "response_body = urlopen(request).read()\n",
    "print(response_body)\n"
   ]
  }
 ],
 "metadata": {
  "kernelspec": {
   "display_name": "kami-reports-JDcU6M9R-py3.11",
   "language": "python",
   "name": "python3"
  },
  "language_info": {
   "codemirror_mode": {
    "name": "ipython",
    "version": 3
   },
   "file_extension": ".py",
   "mimetype": "text/x-python",
   "name": "python",
   "nbconvert_exporter": "python",
   "pygments_lexer": "ipython3",
   "version": "3.9.2"
  },
  "orig_nbformat": 4
 },
 "nbformat": 4,
 "nbformat_minor": 2
}
