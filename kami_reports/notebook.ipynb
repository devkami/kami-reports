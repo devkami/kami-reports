{
 "cells": [
  {
   "cell_type": "code",
   "execution_count": null,
   "metadata": {},
   "outputs": [],
   "source": [
    "from dataframe import (\n",
    "    get_sales_lines_df,\n",
    "    build_master_df,\n",
    "    build_sales_orders_df,\n",
    "    get_sales_lines_df,\n",
    "    get_sellers_details\n",
    ")"
   ]
  },
  {
   "cell_type": "code",
   "execution_count": null,
   "metadata": {},
   "outputs": [],
   "source": [
    "sales_orders_df = build_sales_orders_df(get_sales_lines_df())"
   ]
  },
  {
   "cell_type": "code",
   "execution_count": null,
   "metadata": {},
   "outputs": [],
   "source": [
    "from kami_uno_database.database import get_qy_participant_seller, get_qy_sales_teams, get_qy_sellers_contact, get_qy_default_seller\n",
    "participant_seller_df = get_qy_participant_seller()\n",
    "sales_teams_df = get_qy_sales_teams()\n",
    "sellers_contact_df = get_qy_sellers_contact()\n",
    "default_seller_df = get_qy_default_seller()"
   ]
  },
  {
   "cell_type": "code",
   "execution_count": null,
   "metadata": {},
   "outputs": [],
   "source": [
    "default_seller_df = get_qy_default_seller()"
   ]
  }
 ],
 "metadata": {
  "kernelspec": {
   "display_name": "kami-reports-JDcU6M9R-py3.11",
   "language": "python",
   "name": "python3"
  },
  "language_info": {
   "codemirror_mode": {
    "name": "ipython",
    "version": 3
   },
   "file_extension": ".py",
   "mimetype": "text/x-python",
   "name": "python",
   "nbconvert_exporter": "python",
   "pygments_lexer": "ipython3",
   "version": "3.11.2"
  },
  "orig_nbformat": 4
 },
 "nbformat": 4,
 "nbformat_minor": 2
}
