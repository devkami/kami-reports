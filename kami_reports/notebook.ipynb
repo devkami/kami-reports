{
 "cells": [
  {
   "cell_type": "code",
   "execution_count": null,
   "metadata": {},
   "outputs": [],
   "source": [
    "from kami_reports.database import get_dataframe_from_sql_query\n",
    "from datetime import datetime as dt, timedelta as td\n",
    "from kami_reports.constant import BEEXP_SCRIPT, ORDER_ITEM_DATE_COLS\n",
    "from messages import send_messages_by_group\n",
    "first_update = dt.now() - td(days=7)\n",
    "current_update = first_update\n",
    "last_update = first_update\n",
    "def get_beexp_since(ordered_date):\n",
    "    oders_df = get_dataframe_from_sql_query(\n",
    "    sql_script=BEEXP_SCRIPT,\n",
    "    date_cols=ORDER_ITEM_DATE_COLS\n",
    "    )\n",
    "    mask = (oders_df['dt_implant'] >= ordered_date)\n",
    "    return oders_df.loc[mask]\n",
    "\n",
    "beexp_df = get_beexp_since(current_update)\n",
    "products = [f\"Quantidade de Ingressos: [dado] Nome do Vendedor: [dado] Tipo de Ingresso: [dado] Valor faturado: [dado] Forma de pagamento: [dado] Código do cliente: [dado] Data da venda: [dado] E-mail do representante: [dado] O respectivo vendedor já recebeu o link de cadastro do participante.\" for cod in ]\n",
    "send_messages_by_group(\n",
    "        message_body=products, group='comercial'\n",
    ")"
   ]
  },
  {
   "cell_type": "code",
   "execution_count": null,
   "metadata": {},
   "outputs": [],
   "source": [
    "script = 'database/ase/ase/ase/ase/ase/in/beexp_orders.sql'\n",
    "from kami_reports.database import get_dataframe_from_sql\n",
    "beexp_df = get_dataframe_from_sql(script)     \n",
    "beexp_filtered_df = beexp_df[['qtd', 'nome_colaborador', 'desc_comercial', 'preco_total', 'cond_pgto', 'cod_cliente', 'nome_cliente', 'dt_implant', 'email_colaborador']]"
   ]
  },
  {
   "cell_type": "code",
   "execution_count": null,
   "metadata": {},
   "outputs": [],
   "source": [
    "from mkt_automation import get_beexp_since, get_beexp_manager_message\n",
    "from datetime import datetime as dt, timedelta as td\n",
    "from messages import send_messages_by_group\n",
    "first_update = dt.now() - td(days=7)\n",
    "current_update = first_update\n",
    "last_update = first_update\n",
    "\n",
    "beexp_df = get_beexp_since(current_update)\n",
    "beexp_df = beexp_df[['qtd', 'nome_colaborador', 'desc_comercial', 'preco_total', 'cond_pgto', 'cod_cliente', 'nome_cliente', 'dt_implant', 'email_colaborador']]\n",
    "for row in beexp_df.itertuples():\n",
    "  beexp_message = get_beexp_manager_message(row)\n",
    "  send_messages_by_group(message_body=beexp_message, group='beexp_manager')"
   ]
  },
  {
   "cell_type": "code",
   "execution_count": null,
   "metadata": {},
   "outputs": [],
   "source": [
    "import polars as pl\n",
    "sellers_df = pl.read_csv('database/in/vendedores.csv', separator=';')\n",
    "sellers_df = sellers_df.select(\n",
    "    pl.col('cod_colaborador'),\n",
    "    pl.col('nome_colaborador'),\n",
    "    pl.col('ddd_celular').cast(pl.Utf8).alias('ddd_celular'),\n",
    "    pl.col('celular').cast(pl.Utf8).alias('celular'),\n",
    "    pl.col('ddd_1').cast(pl.Utf8).alias('ddd_1'),\n",
    "    pl.col('telefone_1').cast(pl.Utf8).alias('telefone_1'),\n",
    "    pl.col('email')\n",
    ")"
   ]
  },
  {
   "cell_type": "code",
   "execution_count": null,
   "metadata": {},
   "outputs": [],
   "source": [
    "sellers_contacts = sellers_df.with_columns([\n",
    "    pl.when((\n",
    "        pl.col('ddd_celular').is_not_null()) & (pl.col('celular').is_not_null()))\n",
    "    .then(pl.map(['ddd_celular', 'celular'], lambda s: '+55'+s[0]+s[1]))\n",
    "    .otherwise(None)\n",
    "    .alias('cellphone')    \n",
    "])\n",
    "\n",
    "sellers_contacts = sellers_contacts.with_columns([\n",
    "    pl.when((\n",
    "        pl.col('ddd_1').is_not_null()) & (pl.col('telefone_1').is_not_null()))\n",
    "    .then(pl.map(['ddd_1', 'telefone_1'], lambda s: '+55'+s[0]+s[1]))\n",
    "    .otherwise(None)\n",
    "    .alias('phonenumber')\n",
    "])\n",
    "\n",
    "sellers_contacts = sellers_contacts.with_columns([\n",
    "    pl.when(pl.col('cellphone').is_not_null())\n",
    "    .then(pl.col('cellphone'))    \n",
    "    .otherwise(None)\n",
    "    .alias('phone')\n",
    "])\n",
    "\n",
    "sellers_contacts = sellers_contacts.with_columns([\n",
    "    pl.when(pl.col('phone').is_not_null())\n",
    "    .then(pl.col('phone'))    \n",
    "    .otherwise(pl.col('phonenumber'))\n",
    "    .alias('phone')\n",
    "])\n",
    "\n",
    "sellers_contacts = sellers_contacts.drop_nulls(['phone']).select(pl.col(['cod_colaborador', 'nome_colaborador','phone','email']))\n",
    "\n",
    "sellers_contacts = sellers_contacts.with_columns([\n",
    "    pl.when(pl.col('cod_colaborador').is_not_null())\n",
    "    .then(pl.lit(\"['beexp_seller']\"))    \n",
    "    .otherwise(pl.lit(\"['beexp_seller']\"))\n",
    "    .alias('groups')\n",
    "])\n",
    "\n",
    "sellers_contacts.columns = ['uno_id', 'name', 'phone', 'email', 'groups']"
   ]
  },
  {
   "cell_type": "code",
   "execution_count": null,
   "metadata": {},
   "outputs": [],
   "source": [
    "sellers_contacts.write_json('messages/sellers_contacts.json', row_oriented=True)"
   ]
  },
  {
   "cell_type": "code",
   "execution_count": null,
   "metadata": {},
   "outputs": [],
   "source": [
    "sellers_contacts_bot_conversa = sellers_contacts.select(pl.col(['phone', 'name', 'uno_id']))\n",
    "sellers_contacts_bot_conversa = sellers_contacts_bot_conversa.with_columns([\n",
    "    pl.when(pl.col('uno_id').is_not_null())\n",
    "    .then(pl.col('uno_id').cast(pl.Utf8).apply(lambda x: f\"__uno__.sg_colaborador.{x}\"))\n",
    "    .otherwise(pl.lit(None))\n",
    "    .alias('etiquetas')\n",
    "]).select(pl.col(['phone', 'name', 'etiquetas']))\n",
    "sellers_contacts_bot_conversa.columns = ['telefone', 'nome', 'etiquetas']"
   ]
  },
  {
   "cell_type": "code",
   "execution_count": null,
   "metadata": {},
   "outputs": [],
   "source": [
    "sellers_contacts_bot_conversa.write_excel('database/out/vendedores_uno_botconversa.xlsx')"
   ]
  },
  {
   "cell_type": "code",
   "execution_count": null,
   "metadata": {},
   "outputs": [],
   "source": [
    "script = 'database/in/sales_teams.sql'\n",
    "from kami_reports.database import get_dataframe_from_sql\n",
    "contact_sellers = get_dataframe_from_sql(script)\n",
    "contact_sellers['groups'] = 'beexp_seller'"
   ]
  },
  {
   "cell_type": "code",
   "execution_count": null,
   "metadata": {},
   "outputs": [],
   "source": [
    "from dataclasses import dataclass\n",
    "from typing import List\n",
    "\n",
    "@dataclass\n",
    "class Contact:\n",
    "\n",
    "    id: str\n",
    "    name: str\n",
    "    email: str\n",
    "    phone: str\n",
    "    groups: List[str]\n",
    "contacts = contact_sellers.apply(lambda row: Contact(**row), axis=1)"
   ]
  },
  {
   "cell_type": "code",
   "execution_count": null,
   "metadata": {},
   "outputs": [],
   "source": [
    "for contact in contacts:\n",
    "    contact.groups = [contact.groups]"
   ]
  },
  {
   "cell_type": "code",
   "execution_count": null,
   "metadata": {},
   "outputs": [],
   "source": [
    "from messages import get_contact_by_id, get_sellers_contacts_from_database, generate_message_by_template, send_message_by_messenger, send_message_by_all_messengers, send_message_by_group, send_message_by_seller_id\n",
    "\n",
    "sellers_contacts = get_sellers_contacts_from_database()"
   ]
  },
  {
   "cell_type": "code",
   "execution_count": null,
   "metadata": {},
   "outputs": [],
   "source": [
    "from messages import get_contacts_from_json, send_message_by_group\n",
    "contacts = get_contacts_from_json('messages/contacts.json')\n",
    "send_message_by_group(\n",
    "    'beexp_manager',\n",
    "    'test',\n",
    "    {'subject': 'Vendas BEEXP', 'beexp_order': 'teste: t, data: d, tudo ok'},\n",
    "    contacts\n",
    ")"
   ]
  },
  {
   "cell_type": "code",
   "execution_count": null,
   "metadata": {},
   "outputs": [],
   "source": [
    "script = 'database/in/sales_teams.sql'\n",
    "from kami_reports.database import get_dataframe_from_sql\n",
    "sales_teams = get_dataframe_from_sql(script)\n",
    "sales_teams"
   ]
  },
  {
   "cell_type": "code",
   "execution_count": null,
   "metadata": {},
   "outputs": [],
   "source": [
    "from dataframe import get_sales_lines_df\n",
    "sales_lines_df = get_sales_lines_df()\n",
    "sales_lines_df.columns"
   ]
  },
  {
   "cell_type": "code",
   "execution_count": null,
   "metadata": {},
   "outputs": [],
   "source": [
    "group_columns = ['ano', 'mes', 'empresa_pedido', 'empresa_nota_fiscal', 'cod_cliente',\n",
    "                  'cod_pedido', 'nr_ped_compra_cli', 'cod_situacao', 'desc_situacao',\n",
    "                  'nop', 'cfop', 'cod_cond_pagto', 'cod_forma_pagto', 'forma_pgto',\n",
    "                  'cod_grupo_produto', 'desc_grupo_produto', 'cod_grupo_pai', 'desc_grupo_pai',\n",
    "                  'cod_marca', 'desc_marca']\n",
    "sum_columns = ['desconto_pedido', 'valor_nota', 'total_bruto']\n",
    "\n",
    "sales_orders_df = sales_lines_df.groupby(group_columns)[sum_columns].sum().reset_index()"
   ]
  },
  {
   "cell_type": "code",
   "execution_count": null,
   "metadata": {},
   "outputs": [],
   "source": [
    "import pandas as pd\n",
    "def create_cod_desc_dataframes(df):\n",
    "    dataframes_list = []\n",
    "    for cod_col in df.columns:\n",
    "        if cod_col.startswith('cod_'):\n",
    "            col_pair_name = cod_col.split('cod_')[1]\n",
    "            desc_col = f'desc_{col_pair_name}'            \n",
    "            if desc_col in df.columns:\n",
    "                dataframe = df[[cod_col, desc_col]].drop_duplicates()\n",
    "                df_name = f'{col_pair_name}_df'\n",
    "                dataframes_list.append({\n",
    "                  'df_name':df_name,\n",
    "                  'dataframe':dataframe\n",
    "                })\n",
    "\n",
    "    return dataframes_list"
   ]
  },
  {
   "cell_type": "code",
   "execution_count": null,
   "metadata": {},
   "outputs": [],
   "source": [
    "dfs = create_cod_desc_dataframes(sales_orders_df)"
   ]
  },
  {
   "cell_type": "code",
   "execution_count": null,
   "metadata": {},
   "outputs": [],
   "source": [
    "dfs[0]['dataframe']"
   ]
  },
  {
   "cell_type": "code",
   "execution_count": null,
   "metadata": {},
   "outputs": [],
   "source": [
    "import pandas as pd\n",
    "from typing import List, Union\n",
    "def get_grouped_sales_orders(sales_lines_df: pd.DataFrame, group_cols: List[str], sum_cols: List[str]) -> pd.DataFrame:\n",
    "    sales_orders_df = pd.DataFrame()\n",
    "    \"\"\"\n",
    "    Group and aggregate sales data based on specified columns.\n",
    "\n",
    "    Args:\n",
    "        sales_lines_df (pd.DataFrame): The original DataFrame with sales data.\n",
    "        group_cols (List[str]): List of columns to be used for grouping.\n",
    "        sum_cols (List[str]): List of columns to be summed.\n",
    "\n",
    "    Returns:\n",
    "        pd.DataFrame: The resulting DataFrame with aggregated sales orders.\n",
    "    \"\"\"\n",
    "    try:\n",
    "        sales_orders_df = sales_lines_df.groupby(group_cols)[sum_cols].sum().reset_index()    \n",
    "    except Exception as e:\n",
    "        print(f\"An error occurred: {str(e)}\")\n",
    "    return sales_orders_df"
   ]
  },
  {
   "cell_type": "code",
   "execution_count": null,
   "metadata": {},
   "outputs": [],
   "source": [
    "group_columns = ['ano', 'mes', 'empresa_pedido', 'empresa_nota_fiscal', 'cod_cliente',\n",
    "                  'cod_pedido', 'nr_ped_compra_cli', 'cod_situacao', 'desc_situacao',\n",
    "                  'nop', 'cfop', 'cod_cond_pagto', 'cod_forma_pagto', 'forma_pgto',\n",
    "                  'cod_grupo_produto', 'desc_grupo_produto', 'cod_grupo_pai', 'desc_grupo_pai',\n",
    "                  'cod_marca', 'desc_marca']\n",
    "sum_columns = ['desconto_pedido', 'valor_nota', 'total_bruto']\n",
    "resulting_df = get_grouped_sales_orders(sales_lines_df, group_columns, sum_columns)\n",
    "resulting_df"
   ]
  },
  {
   "cell_type": "code",
   "execution_count": null,
   "metadata": {},
   "outputs": [],
   "source": [
    "def add_seller_info_to_orders(sales_orders_df: pd.DataFrame, sellers_details_df: pd.DataFrame) -> pd.DataFrame:\n",
    "    updated_sales_orders_df = pd.DataFrame()\n",
    "    \"\"\"\n",
    "    Add 'cod_colaborador', 'nome_colaborador' columns to sales orders DataFrame based on sellers_customers DataFrame.\n",
    "\n",
    "    Args:\n",
    "        sales_orders_df (pd.DataFrame): Sales orders DataFrame.\n",
    "        sellers_details_df (pd.DataFrame): DataFrame containing seller information.\n",
    "\n",
    "    Returns:\n",
    "        pd.DataFrame: Updated sales orders DataFrame with seller information, or None if an error occurs.\n",
    "    \"\"\"\n",
    "    try:        \n",
    "        updated_sales_orders_df = pd.merge(sales_orders_df, sellers_details_df, on='cod_cliente', how='left')\n",
    "        \n",
    "    except Exception as e:\n",
    "        print(f\"An error occurred: {str(e)}\")\n",
    "    return updated_sales_orders_df "
   ]
  },
  {
   "cell_type": "code",
   "execution_count": null,
   "metadata": {},
   "outputs": [],
   "source": [
    "import pandas as pd\n",
    "from kami_reports.database import get_qy_default_seller, get_qy_participant_seller, get_qy_contact_sellers\n",
    "def get_sellers_details() -> pd.DataFrame:\n",
    "    sellers_details_df = pd.DataFrame()\n",
    "    try:\n",
    "        sellers_details_df = get_qy_contact_sellers()[['id', 'name']].rename(columns={'id': 'cod_colaborador', 'name': 'nome_colaborador'})\n",
    "        sellers_customers_df = pd.concat([get_qy_default_seller(), get_qy_participant_seller()], ignore_index=True)         \n",
    "        sellers_details_df = sellers_customers_df.merge(\n",
    "            sellers_details_df,\n",
    "            on=['cod_colaborador'],            \n",
    "            how='left',            \n",
    "        )\n",
    "    except Exception as e:\n",
    "        print('An unknow error occurred:', e)\n",
    "    return sellers_details_df "
   ]
  },
  {
   "cell_type": "code",
   "execution_count": null,
   "metadata": {},
   "outputs": [],
   "source": [
    "df = get_sellers_details()\n",
    "customer_seller_count = df.groupby('cod_cliente')['cod_colaborador'].nunique().reset_index()\n",
    "customer_seller_count = customer_seller_count.rename(columns={'cod_colaborador': 'unique_seller_count'})"
   ]
  },
  {
   "cell_type": "code",
   "execution_count": null,
   "metadata": {},
   "outputs": [],
   "source": [
    "customer_seller_count\n",
    "customers_with_multiple_sellers = customer_seller_count[customer_seller_count['unique_seller_count'] > 1]\n",
    "result_df = pd.merge(df, customers_with_multiple_sellers, on='cod_cliente', how='inner')\n",
    "result_df\n"
   ]
  },
  {
   "cell_type": "code",
   "execution_count": null,
   "metadata": {},
   "outputs": [],
   "source": [
    "from kami_reports.database import get_qy_sales_teams\n",
    "sales_teams_df = get_qy_sales_teams()"
   ]
  },
  {
   "cell_type": "code",
   "execution_count": null,
   "metadata": {},
   "outputs": [],
   "source": [
    "from report_bot import delete_files_from, create_gdrive_folders, deliver_master_reports, send_message_by_group, get_contacts_from_json\n",
    "from dataframe import build_sales_orders_df, build_master_df, get_sales_lines_df, calculate_master_df, add_sales_teams_on_sellers_df, add_sellers_on_sales_df\n",
    "import pandas as pd\n",
    "delete_files_from('database/out')\n",
    "current_folders_id = create_gdrive_folders()\n",
    "contacts = get_contacts_from_json('messages/contacts.json')\n",
    "sales_lines_df = get_sales_lines_df()\n",
    "sales_orders_df = build_sales_orders_df(sales_lines_df)     \n",
    "master_sales_teams_df = pd.DataFrame()\n",
    "master_sellers_df = pd.DataFrame()\n",
    "master_df = pd.DataFrame()\n",
    "master_df = calculate_master_df(sales_orders_df)\n",
    "master_sellers_df = add_sellers_on_sales_df(master_df)\n",
    "master_sales_teams_df = add_sales_teams_on_sellers_df(master_sellers_df)"
   ]
  },
  {
   "cell_type": "code",
   "execution_count": null,
   "metadata": {},
   "outputs": [],
   "source": [
    "deliver_master_reports(master_sales_teams_df, current_folders_id)"
   ]
  },
  {
   "cell_type": "code",
   "execution_count": null,
   "metadata": {},
   "outputs": [],
   "source": [
    "send_message_by_group(\n",
    "    template_name='comercial',\n",
    "    group='comercial',\n",
    "    message_dict={\n",
    "        'subject': 'Faturamento Geral Diário',\n",
    "        'gdrive_folder_id': current_folders_id['comercial'],\n",
    "    },\n",
    "    contacts=contacts,\n",
    ")"
   ]
  },
  {
   "cell_type": "code",
   "execution_count": 6,
   "metadata": {},
   "outputs": [
    {
     "ename": "NameError",
     "evalue": "name '__file__' is not defined",
     "output_type": "error",
     "traceback": [
      "\u001b[0;31m---------------------------------------------------------------------------\u001b[0m",
      "\u001b[0;31mNameError\u001b[0m                                 Traceback (most recent call last)",
      "Cell \u001b[0;32mIn[6], line 2\u001b[0m\n\u001b[1;32m      1\u001b[0m \u001b[39mimport\u001b[39;00m \u001b[39mos\u001b[39;00m\n\u001b[0;32m----> 2\u001b[0m current_dir \u001b[39m=\u001b[39m  os\u001b[39m.\u001b[39mpath\u001b[39m.\u001b[39mabspath(os\u001b[39m.\u001b[39mpath\u001b[39m.\u001b[39mdirname(\u001b[39m__file__\u001b[39;49m))\n\u001b[1;32m      3\u001b[0m parent_dir \u001b[39m=\u001b[39m os\u001b[39m.\u001b[39mpath\u001b[39m.\u001b[39mabspath(current_dir \u001b[39m+\u001b[39m \u001b[39m\"\u001b[39m\u001b[39m/../\u001b[39m\u001b[39m\"\u001b[39m)\n",
      "\u001b[0;31mNameError\u001b[0m: name '__file__' is not defined"
     ]
    }
   ],
   "source": [
    "import os\n",
    "current_dir =  os.path.abspath(os.path.dirname(__file__))\n",
    "parent_dir = os.path.abspath(current_dir + \"/../\")"
   ]
  },
  {
   "cell_type": "code",
   "execution_count": null,
   "metadata": {},
   "outputs": [],
   "source": []
  }
 ],
 "metadata": {
  "kernelspec": {
   "display_name": "Python 3",
   "language": "python",
   "name": "python3"
  },
  "language_info": {
   "codemirror_mode": {
    "name": "ipython",
    "version": 3
   },
   "file_extension": ".py",
   "mimetype": "text/x-python",
   "name": "python",
   "nbconvert_exporter": "python",
   "pygments_lexer": "ipython3",
   "version": "3.10.12"
  },
  "orig_nbformat": 4
 },
 "nbformat": 4,
 "nbformat_minor": 2
}
