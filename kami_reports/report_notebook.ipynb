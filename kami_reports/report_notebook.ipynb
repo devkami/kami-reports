{
 "cells": [
  {
   "cell_type": "code",
   "execution_count": null,
   "metadata": {},
   "outputs": [],
   "source": [
    "from report_bot import delete_old_files, create_gdrive_folders, deliver_master_reports, send_message_by_group, get_contacts_from_json\n",
    "from dataframe import build_sales_orders_df, build_master_df, get_sales_lines_df, calculate_master_df, add_sales_teams_on_sellers_df, add_sellers_on_sales_df\n",
    "import pandas as pd\n",
    "delete_old_files('data/out')\n",
    "current_folders_id = create_gdrive_folders()\n",
    "contacts = get_contacts_from_json('messages/contacts.json')\n",
    "sales_lines_df = get_sales_lines_df()\n",
    "sales_orders_df = build_sales_orders_df(sales_lines_df)     \n",
    "master_sales_teams_df = pd.DataFrame()\n",
    "master_sellers_df = pd.DataFrame()\n",
    "master_df = pd.DataFrame()\n",
    "master_df = calculate_master_df(sales_orders_df)\n",
    "master_sellers_df = add_sellers_on_sales_df(master_df)\n",
    "master_sales_teams_df = add_sales_teams_on_sellers_df(master_sellers_df)"
   ]
  },
  {
   "cell_type": "code",
   "execution_count": 66,
   "metadata": {},
   "outputs": [
    {
     "data": {
      "text/plain": [
       "True"
      ]
     },
     "execution_count": 66,
     "metadata": {},
     "output_type": "execute_result"
    }
   ],
   "source": [
    "from datetime import datetime as dt\n",
    "now = dt.now()\n",
    "now.weekday() < 5 and now.hour == 1"
   ]
  }
 ],
 "metadata": {
  "kernelspec": {
   "display_name": "Python 3",
   "language": "python",
   "name": "python3"
  },
  "language_info": {
   "codemirror_mode": {
    "name": "ipython",
    "version": 3
   },
   "file_extension": ".py",
   "mimetype": "text/x-python",
   "name": "python",
   "nbconvert_exporter": "python",
   "pygments_lexer": "ipython3",
   "version": "3.10.12"
  },
  "orig_nbformat": 4
 },
 "nbformat": 4,
 "nbformat_minor": 2
}
